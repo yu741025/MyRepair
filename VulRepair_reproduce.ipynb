{
  "nbformat": 4,
  "nbformat_minor": 0,
  "metadata": {
    "colab": {
      "provenance": [],
      "gpuType": "T4",
      "toc_visible": true,
      "authorship_tag": "ABX9TyOxgmE6IEvDkUSkIDTnr7cl",
      "include_colab_link": true
    },
    "kernelspec": {
      "name": "python3",
      "display_name": "Python 3"
    },
    "language_info": {
      "name": "python"
    },
    "accelerator": "GPU"
  },
  "cells": [
    {
      "cell_type": "markdown",
      "metadata": {
        "id": "view-in-github",
        "colab_type": "text"
      },
      "source": [
        "<a href=\"https://colab.research.google.com/github/yu741025/MyRepair/blob/main/VulRepair_reproduce.ipynb\" target=\"_parent\"><img src=\"https://colab.research.google.com/assets/colab-badge.svg\" alt=\"Open In Colab\"/></a>"
      ]
    },
    {
      "cell_type": "code",
      "execution_count": 1,
      "metadata": {
        "colab": {
          "base_uri": "https://localhost:8080/"
        },
        "id": "Ux9JROJcxujD",
        "outputId": "005a9bed-df00-4abf-c69f-23a3de2a2889"
      },
      "outputs": [
        {
          "output_type": "stream",
          "name": "stdout",
          "text": [
            "Cloning into 'VulRepair'...\n",
            "remote: Enumerating objects: 1808, done.\u001b[K\n",
            "remote: Counting objects: 100% (117/117), done.\u001b[K\n",
            "remote: Compressing objects: 100% (57/57), done.\u001b[K\n",
            "remote: Total 1808 (delta 58), reused 115 (delta 57), pack-reused 1691\u001b[K\n",
            "Receiving objects: 100% (1808/1808), 43.62 MiB | 10.96 MiB/s, done.\n",
            "Resolving deltas: 100% (567/567), done.\n"
          ]
        }
      ],
      "source": [
        "!git clone https://github.com/awsm-research/VulRepair.git\n",
        "!cd VulRepair\n"
      ]
    },
    {
      "cell_type": "code",
      "source": [
        "! git config --global user.email yu741025@gmail.com"
      ],
      "metadata": {
        "id": "thuH9yrByb-v"
      },
      "execution_count": 6,
      "outputs": []
    },
    {
      "cell_type": "code",
      "source": [
        "!pip install -r requirements.txt\n"
      ],
      "metadata": {
        "colab": {
          "base_uri": "https://localhost:8080/"
        },
        "id": "5QX8hIekya5K",
        "outputId": "3a192c70-0f97-4534-9688-05e55ee71a82"
      },
      "execution_count": 3,
      "outputs": [
        {
          "output_type": "stream",
          "name": "stdout",
          "text": [
            "\u001b[31mERROR: Could not open requirements file: [Errno 2] No such file or directory: 'requirements.txt'\u001b[0m\u001b[31m\n",
            "\u001b[0m"
          ]
        }
      ]
    },
    {
      "cell_type": "code",
      "source": [
        "!pip install -r /content/VulRepair/requirements.txt\n",
        "\n"
      ],
      "metadata": {
        "id": "9OGxibidyjrd"
      },
      "execution_count": null,
      "outputs": []
    },
    {
      "cell_type": "code",
      "source": [
        "!pip install transformers\n",
        "!pip install torch\n",
        "!pip install numpy\n",
        "!pip install tqdm\n",
        "!pip install pandas\n",
        "!pip install tokenizers\n",
        "!pip install datasets\n",
        "!pip install gdown\n",
        "!pip\n",
        "!pip install tensorboard\n",
        "!pip install scikit-learn\n"
      ],
      "metadata": {
        "id": "X3tfzh_qyoVW"
      },
      "execution_count": null,
      "outputs": []
    },
    {
      "cell_type": "code",
      "source": [
        "!pip install tensorflow"
      ],
      "metadata": {
        "id": "f765cXEQzmjd",
        "colab": {
          "base_uri": "https://localhost:8080/"
        },
        "outputId": "93f7e271-c116-452a-8ba2-29947c3f1501"
      },
      "execution_count": 37,
      "outputs": [
        {
          "output_type": "stream",
          "name": "stdout",
          "text": [
            "Requirement already satisfied: tensorflow in /usr/local/lib/python3.10/dist-packages (2.13.0)\n",
            "Requirement already satisfied: absl-py>=1.0.0 in /usr/local/lib/python3.10/dist-packages (from tensorflow) (1.4.0)\n",
            "Requirement already satisfied: astunparse>=1.6.0 in /usr/local/lib/python3.10/dist-packages (from tensorflow) (1.6.3)\n",
            "Requirement already satisfied: flatbuffers>=23.1.21 in /usr/local/lib/python3.10/dist-packages (from tensorflow) (23.5.26)\n",
            "Requirement already satisfied: gast<=0.4.0,>=0.2.1 in /usr/local/lib/python3.10/dist-packages (from tensorflow) (0.4.0)\n",
            "Requirement already satisfied: google-pasta>=0.1.1 in /usr/local/lib/python3.10/dist-packages (from tensorflow) (0.2.0)\n",
            "Requirement already satisfied: grpcio<2.0,>=1.24.3 in /usr/local/lib/python3.10/dist-packages (from tensorflow) (1.59.0)\n",
            "Requirement already satisfied: h5py>=2.9.0 in /usr/local/lib/python3.10/dist-packages (from tensorflow) (3.9.0)\n",
            "Requirement already satisfied: keras<2.14,>=2.13.1 in /usr/local/lib/python3.10/dist-packages (from tensorflow) (2.13.1)\n",
            "Requirement already satisfied: libclang>=13.0.0 in /usr/local/lib/python3.10/dist-packages (from tensorflow) (16.0.6)\n",
            "Requirement already satisfied: numpy<=1.24.3,>=1.22 in /usr/local/lib/python3.10/dist-packages (from tensorflow) (1.23.5)\n",
            "Requirement already satisfied: opt-einsum>=2.3.2 in /usr/local/lib/python3.10/dist-packages (from tensorflow) (3.3.0)\n",
            "Requirement already satisfied: packaging in /usr/local/lib/python3.10/dist-packages (from tensorflow) (23.2)\n",
            "Requirement already satisfied: protobuf!=4.21.0,!=4.21.1,!=4.21.2,!=4.21.3,!=4.21.4,!=4.21.5,<5.0.0dev,>=3.20.3 in /usr/local/lib/python3.10/dist-packages (from tensorflow) (3.20.3)\n",
            "Requirement already satisfied: setuptools in /usr/local/lib/python3.10/dist-packages (from tensorflow) (67.7.2)\n",
            "Requirement already satisfied: six>=1.12.0 in /usr/local/lib/python3.10/dist-packages (from tensorflow) (1.16.0)\n",
            "Requirement already satisfied: tensorboard<2.14,>=2.13 in /usr/local/lib/python3.10/dist-packages (from tensorflow) (2.13.0)\n",
            "Requirement already satisfied: tensorflow-estimator<2.14,>=2.13.0 in /usr/local/lib/python3.10/dist-packages (from tensorflow) (2.13.0)\n",
            "Requirement already satisfied: termcolor>=1.1.0 in /usr/local/lib/python3.10/dist-packages (from tensorflow) (2.3.0)\n",
            "Requirement already satisfied: typing-extensions<4.6.0,>=3.6.6 in /usr/local/lib/python3.10/dist-packages (from tensorflow) (4.5.0)\n",
            "Requirement already satisfied: wrapt>=1.11.0 in /usr/local/lib/python3.10/dist-packages (from tensorflow) (1.15.0)\n",
            "Requirement already satisfied: tensorflow-io-gcs-filesystem>=0.23.1 in /usr/local/lib/python3.10/dist-packages (from tensorflow) (0.34.0)\n",
            "Requirement already satisfied: wheel<1.0,>=0.23.0 in /usr/local/lib/python3.10/dist-packages (from astunparse>=1.6.0->tensorflow) (0.41.2)\n",
            "Requirement already satisfied: google-auth<3,>=1.6.3 in /usr/local/lib/python3.10/dist-packages (from tensorboard<2.14,>=2.13->tensorflow) (2.17.3)\n",
            "Requirement already satisfied: google-auth-oauthlib<1.1,>=0.5 in /usr/local/lib/python3.10/dist-packages (from tensorboard<2.14,>=2.13->tensorflow) (1.0.0)\n",
            "Requirement already satisfied: markdown>=2.6.8 in /usr/local/lib/python3.10/dist-packages (from tensorboard<2.14,>=2.13->tensorflow) (3.5)\n",
            "Requirement already satisfied: requests<3,>=2.21.0 in /usr/local/lib/python3.10/dist-packages (from tensorboard<2.14,>=2.13->tensorflow) (2.31.0)\n",
            "Requirement already satisfied: tensorboard-data-server<0.8.0,>=0.7.0 in /usr/local/lib/python3.10/dist-packages (from tensorboard<2.14,>=2.13->tensorflow) (0.7.1)\n",
            "Requirement already satisfied: werkzeug>=1.0.1 in /usr/local/lib/python3.10/dist-packages (from tensorboard<2.14,>=2.13->tensorflow) (3.0.0)\n",
            "Requirement already satisfied: cachetools<6.0,>=2.0.0 in /usr/local/lib/python3.10/dist-packages (from google-auth<3,>=1.6.3->tensorboard<2.14,>=2.13->tensorflow) (5.3.1)\n",
            "Requirement already satisfied: pyasn1-modules>=0.2.1 in /usr/local/lib/python3.10/dist-packages (from google-auth<3,>=1.6.3->tensorboard<2.14,>=2.13->tensorflow) (0.3.0)\n",
            "Requirement already satisfied: rsa<5,>=3.1.4 in /usr/local/lib/python3.10/dist-packages (from google-auth<3,>=1.6.3->tensorboard<2.14,>=2.13->tensorflow) (4.9)\n",
            "Requirement already satisfied: requests-oauthlib>=0.7.0 in /usr/local/lib/python3.10/dist-packages (from google-auth-oauthlib<1.1,>=0.5->tensorboard<2.14,>=2.13->tensorflow) (1.3.1)\n",
            "Requirement already satisfied: charset-normalizer<4,>=2 in /usr/local/lib/python3.10/dist-packages (from requests<3,>=2.21.0->tensorboard<2.14,>=2.13->tensorflow) (3.3.0)\n",
            "Requirement already satisfied: idna<4,>=2.5 in /usr/local/lib/python3.10/dist-packages (from requests<3,>=2.21.0->tensorboard<2.14,>=2.13->tensorflow) (3.4)\n",
            "Requirement already satisfied: urllib3<3,>=1.21.1 in /usr/local/lib/python3.10/dist-packages (from requests<3,>=2.21.0->tensorboard<2.14,>=2.13->tensorflow) (2.0.6)\n",
            "Requirement already satisfied: certifi>=2017.4.17 in /usr/local/lib/python3.10/dist-packages (from requests<3,>=2.21.0->tensorboard<2.14,>=2.13->tensorflow) (2023.7.22)\n",
            "Requirement already satisfied: MarkupSafe>=2.1.1 in /usr/local/lib/python3.10/dist-packages (from werkzeug>=1.0.1->tensorboard<2.14,>=2.13->tensorflow) (2.1.3)\n",
            "Requirement already satisfied: pyasn1<0.6.0,>=0.4.6 in /usr/local/lib/python3.10/dist-packages (from pyasn1-modules>=0.2.1->google-auth<3,>=1.6.3->tensorboard<2.14,>=2.13->tensorflow) (0.5.0)\n",
            "Requirement already satisfied: oauthlib>=3.0.0 in /usr/local/lib/python3.10/dist-packages (from requests-oauthlib>=0.7.0->google-auth-oauthlib<1.1,>=0.5->tensorboard<2.14,>=2.13->tensorflow) (3.2.2)\n"
          ]
        }
      ]
    },
    {
      "cell_type": "code",
      "source": [
        "#original\n",
        "!python /content/VulRepair/M1_VulRepair_PL-NL/vulrepair_main.py \\\n",
        "    --output_dir=./saved_models \\\n",
        "    --model_name=model.bin \\\n",
        "    --tokenizer_name=MickyMike/VulRepair \\\n",
        "    --model_name_or_path=MickyMike/VulRepair \\\n",
        "    --do_test \\\n",
        "    --encoder_block_size 512 \\\n",
        "    --decoder_block_size 256 \\\n",
        "    --num_beams=50 \\\n",
        "    --eval_batch_size 1"
      ],
      "metadata": {
        "id": "c079TJ4_0MP9"
      },
      "execution_count": null,
      "outputs": []
    },
    {
      "cell_type": "code",
      "source": [
        "%pip install tensorrt"
      ],
      "metadata": {
        "colab": {
          "base_uri": "https://localhost:8080/"
        },
        "id": "qEr0tFV5oDrl",
        "outputId": "bb41c465-7e95-4a9d-ad66-f1f29cb763ba"
      },
      "execution_count": 35,
      "outputs": [
        {
          "output_type": "stream",
          "name": "stdout",
          "text": [
            "Requirement already satisfied: tensorrt in /usr/local/lib/python3.10/dist-packages (8.6.1.post1)\n"
          ]
        }
      ]
    },
    {
      "cell_type": "code",
      "source": [
        "!pip install tensorflow[and-cuda]==2.14"
      ],
      "metadata": {
        "colab": {
          "base_uri": "https://localhost:8080/"
        },
        "id": "Sl79r8gUpg6g",
        "outputId": "7f2e16a2-9c07-453d-ef95-dfc82f397d26"
      },
      "execution_count": 44,
      "outputs": [
        {
          "output_type": "stream",
          "name": "stdout",
          "text": [
            "Collecting tensorflow[and-cuda]==2.14\n",
            "  Downloading tensorflow-2.14.0-cp310-cp310-manylinux_2_17_x86_64.manylinux2014_x86_64.whl (489.8 MB)\n",
            "\u001b[2K     \u001b[90m━━━━━━━━━━━━━━━━━━━━━━━━━━━━━━━━━━━━━━━━\u001b[0m \u001b[32m489.8/489.8 MB\u001b[0m \u001b[31m3.3 MB/s\u001b[0m eta \u001b[36m0:00:00\u001b[0m\n",
            "\u001b[?25hRequirement already satisfied: absl-py>=1.0.0 in /usr/local/lib/python3.10/dist-packages (from tensorflow[and-cuda]==2.14) (1.4.0)\n",
            "Requirement already satisfied: astunparse>=1.6.0 in /usr/local/lib/python3.10/dist-packages (from tensorflow[and-cuda]==2.14) (1.6.3)\n",
            "Requirement already satisfied: flatbuffers>=23.5.26 in /usr/local/lib/python3.10/dist-packages (from tensorflow[and-cuda]==2.14) (23.5.26)\n",
            "Requirement already satisfied: gast!=0.5.0,!=0.5.1,!=0.5.2,>=0.2.1 in /usr/local/lib/python3.10/dist-packages (from tensorflow[and-cuda]==2.14) (0.4.0)\n",
            "Requirement already satisfied: google-pasta>=0.1.1 in /usr/local/lib/python3.10/dist-packages (from tensorflow[and-cuda]==2.14) (0.2.0)\n",
            "Requirement already satisfied: h5py>=2.9.0 in /usr/local/lib/python3.10/dist-packages (from tensorflow[and-cuda]==2.14) (3.9.0)\n",
            "Requirement already satisfied: libclang>=13.0.0 in /usr/local/lib/python3.10/dist-packages (from tensorflow[and-cuda]==2.14) (16.0.6)\n",
            "Collecting ml-dtypes==0.2.0 (from tensorflow[and-cuda]==2.14)\n",
            "  Downloading ml_dtypes-0.2.0-cp310-cp310-manylinux_2_17_x86_64.manylinux2014_x86_64.whl (1.0 MB)\n",
            "\u001b[2K     \u001b[90m━━━━━━━━━━━━━━━━━━━━━━━━━━━━━━━━━━━━━━━━\u001b[0m \u001b[32m1.0/1.0 MB\u001b[0m \u001b[31m47.8 MB/s\u001b[0m eta \u001b[36m0:00:00\u001b[0m\n",
            "\u001b[?25hRequirement already satisfied: numpy>=1.23.5 in /usr/local/lib/python3.10/dist-packages (from tensorflow[and-cuda]==2.14) (1.23.5)\n",
            "Requirement already satisfied: opt-einsum>=2.3.2 in /usr/local/lib/python3.10/dist-packages (from tensorflow[and-cuda]==2.14) (3.3.0)\n",
            "Requirement already satisfied: packaging in /usr/local/lib/python3.10/dist-packages (from tensorflow[and-cuda]==2.14) (23.2)\n",
            "Requirement already satisfied: protobuf!=4.21.0,!=4.21.1,!=4.21.2,!=4.21.3,!=4.21.4,!=4.21.5,<5.0.0dev,>=3.20.3 in /usr/local/lib/python3.10/dist-packages (from tensorflow[and-cuda]==2.14) (3.20.3)\n",
            "Requirement already satisfied: setuptools in /usr/local/lib/python3.10/dist-packages (from tensorflow[and-cuda]==2.14) (67.7.2)\n",
            "Requirement already satisfied: six>=1.12.0 in /usr/local/lib/python3.10/dist-packages (from tensorflow[and-cuda]==2.14) (1.16.0)\n",
            "Requirement already satisfied: termcolor>=1.1.0 in /usr/local/lib/python3.10/dist-packages (from tensorflow[and-cuda]==2.14) (2.3.0)\n",
            "Requirement already satisfied: typing-extensions>=3.6.6 in /usr/local/lib/python3.10/dist-packages (from tensorflow[and-cuda]==2.14) (4.5.0)\n",
            "Collecting wrapt<1.15,>=1.11.0 (from tensorflow[and-cuda]==2.14)\n",
            "  Downloading wrapt-1.14.1-cp310-cp310-manylinux_2_5_x86_64.manylinux1_x86_64.manylinux_2_17_x86_64.manylinux2014_x86_64.whl (77 kB)\n",
            "\u001b[2K     \u001b[90m━━━━━━━━━━━━━━━━━━━━━━━━━━━━━━━━━━━━━━━━\u001b[0m \u001b[32m77.9/77.9 kB\u001b[0m \u001b[31m10.7 MB/s\u001b[0m eta \u001b[36m0:00:00\u001b[0m\n",
            "\u001b[?25hRequirement already satisfied: tensorflow-io-gcs-filesystem>=0.23.1 in /usr/local/lib/python3.10/dist-packages (from tensorflow[and-cuda]==2.14) (0.34.0)\n",
            "Requirement already satisfied: grpcio<2.0,>=1.24.3 in /usr/local/lib/python3.10/dist-packages (from tensorflow[and-cuda]==2.14) (1.59.0)\n",
            "Collecting tensorboard<2.15,>=2.14 (from tensorflow[and-cuda]==2.14)\n",
            "  Downloading tensorboard-2.14.1-py3-none-any.whl (5.5 MB)\n",
            "\u001b[2K     \u001b[90m━━━━━━━━━━━━━━━━━━━━━━━━━━━━━━━━━━━━━━━━\u001b[0m \u001b[32m5.5/5.5 MB\u001b[0m \u001b[31m79.5 MB/s\u001b[0m eta \u001b[36m0:00:00\u001b[0m\n",
            "\u001b[?25hCollecting tensorflow-estimator<2.15,>=2.14.0 (from tensorflow[and-cuda]==2.14)\n",
            "  Downloading tensorflow_estimator-2.14.0-py2.py3-none-any.whl (440 kB)\n",
            "\u001b[2K     \u001b[90m━━━━━━━━━━━━━━━━━━━━━━━━━━━━━━━━━━━━━━━━\u001b[0m \u001b[32m440.7/440.7 kB\u001b[0m \u001b[31m31.7 MB/s\u001b[0m eta \u001b[36m0:00:00\u001b[0m\n",
            "\u001b[?25hCollecting keras<2.15,>=2.14.0 (from tensorflow[and-cuda]==2.14)\n",
            "  Downloading keras-2.14.0-py3-none-any.whl (1.7 MB)\n",
            "\u001b[2K     \u001b[90m━━━━━━━━━━━━━━━━━━━━━━━━━━━━━━━━━━━━━━━━\u001b[0m \u001b[32m1.7/1.7 MB\u001b[0m \u001b[31m66.6 MB/s\u001b[0m eta \u001b[36m0:00:00\u001b[0m\n",
            "\u001b[?25hCollecting nvidia-cuda-runtime-cu11==11.8.89 (from tensorflow[and-cuda]==2.14)\n",
            "  Downloading nvidia_cuda_runtime_cu11-11.8.89-py3-none-manylinux1_x86_64.whl (875 kB)\n",
            "\u001b[2K     \u001b[90m━━━━━━━━━━━━━━━━━━━━━━━━━━━━━━━━━━━━━━━━\u001b[0m \u001b[32m875.6/875.6 kB\u001b[0m \u001b[31m56.2 MB/s\u001b[0m eta \u001b[36m0:00:00\u001b[0m\n",
            "\u001b[?25hCollecting nvidia-cublas-cu11==11.11.3.6 (from tensorflow[and-cuda]==2.14)\n",
            "  Downloading nvidia_cublas_cu11-11.11.3.6-py3-none-manylinux1_x86_64.whl (417.9 MB)\n",
            "\u001b[2K     \u001b[90m━━━━━━━━━━━━━━━━━━━━━━━━━━━━━━━━━━━━━━━━\u001b[0m \u001b[32m417.9/417.9 MB\u001b[0m \u001b[31m3.7 MB/s\u001b[0m eta \u001b[36m0:00:00\u001b[0m\n",
            "\u001b[?25hCollecting nvidia-cufft-cu11==10.9.0.58 (from tensorflow[and-cuda]==2.14)\n",
            "  Downloading nvidia_cufft_cu11-10.9.0.58-py3-none-manylinux1_x86_64.whl (168.4 MB)\n",
            "\u001b[2K     \u001b[90m━━━━━━━━━━━━━━━━━━━━━━━━━━━━━━━━━━━━━━━━\u001b[0m \u001b[32m168.4/168.4 MB\u001b[0m \u001b[31m6.7 MB/s\u001b[0m eta \u001b[36m0:00:00\u001b[0m\n",
            "\u001b[?25hCollecting nvidia-cudnn-cu11==8.7.0.84 (from tensorflow[and-cuda]==2.14)\n",
            "  Downloading nvidia_cudnn_cu11-8.7.0.84-py3-none-manylinux1_x86_64.whl (728.5 MB)\n",
            "\u001b[2K     \u001b[90m━━━━━━━━━━━━━━━━━━━━━━━━━━━━━━━━━━━━━━━━\u001b[0m \u001b[32m728.5/728.5 MB\u001b[0m \u001b[31m2.4 MB/s\u001b[0m eta \u001b[36m0:00:00\u001b[0m\n",
            "\u001b[?25hCollecting nvidia-curand-cu11==10.3.0.86 (from tensorflow[and-cuda]==2.14)\n",
            "  Downloading nvidia_curand_cu11-10.3.0.86-py3-none-manylinux1_x86_64.whl (58.1 MB)\n",
            "\u001b[2K     \u001b[90m━━━━━━━━━━━━━━━━━━━━━━━━━━━━━━━━━━━━━━━━\u001b[0m \u001b[32m58.1/58.1 MB\u001b[0m \u001b[31m10.0 MB/s\u001b[0m eta \u001b[36m0:00:00\u001b[0m\n",
            "\u001b[?25hCollecting nvidia-cusolver-cu11==11.4.1.48 (from tensorflow[and-cuda]==2.14)\n",
            "  Downloading nvidia_cusolver_cu11-11.4.1.48-py3-none-manylinux1_x86_64.whl (128.2 MB)\n",
            "\u001b[2K     \u001b[90m━━━━━━━━━━━━━━━━━━━━━━━━━━━━━━━━━━━━━━━━\u001b[0m \u001b[32m128.2/128.2 MB\u001b[0m \u001b[31m8.7 MB/s\u001b[0m eta \u001b[36m0:00:00\u001b[0m\n",
            "\u001b[?25hCollecting nvidia-cusparse-cu11==11.7.5.86 (from tensorflow[and-cuda]==2.14)\n",
            "  Downloading nvidia_cusparse_cu11-11.7.5.86-py3-none-manylinux1_x86_64.whl (204.1 MB)\n",
            "\u001b[2K     \u001b[90m━━━━━━━━━━━━━━━━━━━━━━━━━━━━━━━━━━━━━━━━\u001b[0m \u001b[32m204.1/204.1 MB\u001b[0m \u001b[31m5.8 MB/s\u001b[0m eta \u001b[36m0:00:00\u001b[0m\n",
            "\u001b[?25hCollecting nvidia-nccl-cu11==2.16.5 (from tensorflow[and-cuda]==2.14)\n",
            "  Downloading nvidia_nccl_cu11-2.16.5-py3-none-manylinux1_x86_64.whl (210.3 MB)\n",
            "\u001b[2K     \u001b[90m━━━━━━━━━━━━━━━━━━━━━━━━━━━━━━━━━━━━━━━━\u001b[0m \u001b[32m210.3/210.3 MB\u001b[0m \u001b[31m6.0 MB/s\u001b[0m eta \u001b[36m0:00:00\u001b[0m\n",
            "\u001b[?25hCollecting nvidia-cuda-cupti-cu11==11.8.87 (from tensorflow[and-cuda]==2.14)\n",
            "  Downloading nvidia_cuda_cupti_cu11-11.8.87-py3-none-manylinux1_x86_64.whl (13.1 MB)\n",
            "\u001b[2K     \u001b[90m━━━━━━━━━━━━━━━━━━━━━━━━━━━━━━━━━━━━━━━━\u001b[0m \u001b[32m13.1/13.1 MB\u001b[0m \u001b[31m102.2 MB/s\u001b[0m eta \u001b[36m0:00:00\u001b[0m\n",
            "\u001b[?25hCollecting nvidia-cuda-nvcc-cu11==11.8.89 (from tensorflow[and-cuda]==2.14)\n",
            "  Downloading nvidia_cuda_nvcc_cu11-11.8.89-py3-none-manylinux1_x86_64.whl (19.5 MB)\n",
            "\u001b[2K     \u001b[90m━━━━━━━━━━━━━━━━━━━━━━━━━━━━━━━━━━━━━━━━\u001b[0m \u001b[32m19.5/19.5 MB\u001b[0m \u001b[31m79.3 MB/s\u001b[0m eta \u001b[36m0:00:00\u001b[0m\n",
            "\u001b[?25hCollecting tensorrt==8.5.3.1 (from tensorflow[and-cuda]==2.14)\n",
            "  Downloading tensorrt-8.5.3.1-cp310-none-manylinux_2_17_x86_64.whl (549.5 MB)\n",
            "\u001b[2K     \u001b[90m━━━━━━━━━━━━━━━━━━━━━━━━━━━━━━━━━━━━━━━━\u001b[0m \u001b[32m549.5/549.5 MB\u001b[0m \u001b[31m3.0 MB/s\u001b[0m eta \u001b[36m0:00:00\u001b[0m\n",
            "\u001b[?25hRequirement already satisfied: wheel<1.0,>=0.23.0 in /usr/local/lib/python3.10/dist-packages (from astunparse>=1.6.0->tensorflow[and-cuda]==2.14) (0.41.2)\n",
            "Requirement already satisfied: google-auth<3,>=1.6.3 in /usr/local/lib/python3.10/dist-packages (from tensorboard<2.15,>=2.14->tensorflow[and-cuda]==2.14) (2.17.3)\n",
            "Requirement already satisfied: google-auth-oauthlib<1.1,>=0.5 in /usr/local/lib/python3.10/dist-packages (from tensorboard<2.15,>=2.14->tensorflow[and-cuda]==2.14) (1.0.0)\n",
            "Requirement already satisfied: markdown>=2.6.8 in /usr/local/lib/python3.10/dist-packages (from tensorboard<2.15,>=2.14->tensorflow[and-cuda]==2.14) (3.5)\n",
            "Requirement already satisfied: requests<3,>=2.21.0 in /usr/local/lib/python3.10/dist-packages (from tensorboard<2.15,>=2.14->tensorflow[and-cuda]==2.14) (2.31.0)\n",
            "Requirement already satisfied: tensorboard-data-server<0.8.0,>=0.7.0 in /usr/local/lib/python3.10/dist-packages (from tensorboard<2.15,>=2.14->tensorflow[and-cuda]==2.14) (0.7.1)\n",
            "Requirement already satisfied: werkzeug>=1.0.1 in /usr/local/lib/python3.10/dist-packages (from tensorboard<2.15,>=2.14->tensorflow[and-cuda]==2.14) (3.0.0)\n",
            "Requirement already satisfied: cachetools<6.0,>=2.0.0 in /usr/local/lib/python3.10/dist-packages (from google-auth<3,>=1.6.3->tensorboard<2.15,>=2.14->tensorflow[and-cuda]==2.14) (5.3.1)\n",
            "Requirement already satisfied: pyasn1-modules>=0.2.1 in /usr/local/lib/python3.10/dist-packages (from google-auth<3,>=1.6.3->tensorboard<2.15,>=2.14->tensorflow[and-cuda]==2.14) (0.3.0)\n",
            "Requirement already satisfied: rsa<5,>=3.1.4 in /usr/local/lib/python3.10/dist-packages (from google-auth<3,>=1.6.3->tensorboard<2.15,>=2.14->tensorflow[and-cuda]==2.14) (4.9)\n",
            "Requirement already satisfied: requests-oauthlib>=0.7.0 in /usr/local/lib/python3.10/dist-packages (from google-auth-oauthlib<1.1,>=0.5->tensorboard<2.15,>=2.14->tensorflow[and-cuda]==2.14) (1.3.1)\n",
            "Requirement already satisfied: charset-normalizer<4,>=2 in /usr/local/lib/python3.10/dist-packages (from requests<3,>=2.21.0->tensorboard<2.15,>=2.14->tensorflow[and-cuda]==2.14) (3.3.0)\n",
            "Requirement already satisfied: idna<4,>=2.5 in /usr/local/lib/python3.10/dist-packages (from requests<3,>=2.21.0->tensorboard<2.15,>=2.14->tensorflow[and-cuda]==2.14) (3.4)\n",
            "Requirement already satisfied: urllib3<3,>=1.21.1 in /usr/local/lib/python3.10/dist-packages (from requests<3,>=2.21.0->tensorboard<2.15,>=2.14->tensorflow[and-cuda]==2.14) (2.0.6)\n",
            "Requirement already satisfied: certifi>=2017.4.17 in /usr/local/lib/python3.10/dist-packages (from requests<3,>=2.21.0->tensorboard<2.15,>=2.14->tensorflow[and-cuda]==2.14) (2023.7.22)\n",
            "Requirement already satisfied: MarkupSafe>=2.1.1 in /usr/local/lib/python3.10/dist-packages (from werkzeug>=1.0.1->tensorboard<2.15,>=2.14->tensorflow[and-cuda]==2.14) (2.1.3)\n",
            "Requirement already satisfied: pyasn1<0.6.0,>=0.4.6 in /usr/local/lib/python3.10/dist-packages (from pyasn1-modules>=0.2.1->google-auth<3,>=1.6.3->tensorboard<2.15,>=2.14->tensorflow[and-cuda]==2.14) (0.5.0)\n",
            "Requirement already satisfied: oauthlib>=3.0.0 in /usr/local/lib/python3.10/dist-packages (from requests-oauthlib>=0.7.0->google-auth-oauthlib<1.1,>=0.5->tensorboard<2.15,>=2.14->tensorflow[and-cuda]==2.14) (3.2.2)\n",
            "Installing collected packages: wrapt, tensorflow-estimator, nvidia-nccl-cu11, nvidia-cusparse-cu11, nvidia-curand-cu11, nvidia-cufft-cu11, nvidia-cuda-runtime-cu11, nvidia-cuda-nvcc-cu11, nvidia-cuda-cupti-cu11, nvidia-cublas-cu11, ml-dtypes, keras, nvidia-cusolver-cu11, nvidia-cudnn-cu11, tensorrt, tensorboard, tensorflow\n",
            "  Attempting uninstall: wrapt\n",
            "    Found existing installation: wrapt 1.15.0\n",
            "    Uninstalling wrapt-1.15.0:\n",
            "      Successfully uninstalled wrapt-1.15.0\n",
            "  Attempting uninstall: tensorflow-estimator\n",
            "    Found existing installation: tensorflow-estimator 2.13.0\n",
            "    Uninstalling tensorflow-estimator-2.13.0:\n",
            "      Successfully uninstalled tensorflow-estimator-2.13.0\n",
            "  Attempting uninstall: ml-dtypes\n",
            "    Found existing installation: ml-dtypes 0.3.1\n",
            "    Uninstalling ml-dtypes-0.3.1:\n",
            "      Successfully uninstalled ml-dtypes-0.3.1\n",
            "  Attempting uninstall: keras\n",
            "    Found existing installation: keras 2.13.1\n",
            "    Uninstalling keras-2.13.1:\n",
            "      Successfully uninstalled keras-2.13.1\n",
            "  Attempting uninstall: tensorrt\n",
            "    Found existing installation: tensorrt 8.6.1.post1\n",
            "    Uninstalling tensorrt-8.6.1.post1:\n",
            "      Successfully uninstalled tensorrt-8.6.1.post1\n",
            "  Attempting uninstall: tensorboard\n",
            "    Found existing installation: tensorboard 2.13.0\n",
            "    Uninstalling tensorboard-2.13.0:\n",
            "      Successfully uninstalled tensorboard-2.13.0\n",
            "  Attempting uninstall: tensorflow\n",
            "    Found existing installation: tensorflow 2.13.0\n",
            "    Uninstalling tensorflow-2.13.0:\n",
            "\u001b[31mERROR: Could not install packages due to an OSError: [('/usr/local/lib/python3.10/dist-packages/tensorflow/libtensorflow_cc.so.2', '/usr/local/lib/python3.10/dist-packages/~ensorflow/libtensorflow_cc.so.2', \"[Errno 28] No space left on device: '/usr/local/lib/python3.10/dist-packages/tensorflow/libtensorflow_cc.so.2' -> '/usr/local/lib/python3.10/dist-packages/~ensorflow/libtensorflow_cc.so.2'\"), ('/usr/local/lib/python3.10/dist-packages/tensorflow/compiler', '/usr/local/lib/python3.10/dist-packages/~ensorflow/compiler', \"[Errno 28] No space left on device: '/usr/local/lib/python3.10/dist-packages/~ensorflow/compiler'\"), ('/usr/local/lib/python3.10/dist-packages/tensorflow/lite', '/usr/local/lib/python3.10/dist-packages/~ensorflow/lite', \"[Errno 28] No space left on device: '/usr/local/lib/python3.10/dist-packages/~ensorflow/lite'\"), ('/usr/local/lib/python3.10/dist-packages/tensorflow/security', '/usr/local/lib/python3.10/dist-packages/~ensorflow/security', \"[Errno 28] No space left on device: '/usr/local/lib/python3.10/dist-packages/~ensorflow/security'\"), ('/usr/local/lib/python3.10/dist-packages/tensorflow/_api', '/usr/local/lib/python3.10/dist-packages/~ensorflow/_api', \"[Errno 28] No space left on device: '/usr/local/lib/python3.10/dist-packages/~ensorflow/_api'\"), ('/usr/local/lib/python3.10/dist-packages/tensorflow/include', '/usr/local/lib/python3.10/dist-packages/~ensorflow/include', \"[Errno 28] No space left on device: '/usr/local/lib/python3.10/dist-packages/~ensorflow/include'\"), ('/usr/local/lib/python3.10/dist-packages/tensorflow/__pycache__', '/usr/local/lib/python3.10/dist-packages/~ensorflow/__pycache__', \"[Errno 28] No space left on device: '/usr/local/lib/python3.10/dist-packages/~ensorflow/__pycache__'\"), ('/usr/local/lib/python3.10/dist-packages/tensorflow/dtensor', '/usr/local/lib/python3.10/dist-packages/~ensorflow/dtensor', \"[Errno 28] No space left on device: '/usr/local/lib/python3.10/dist-packages/~ensorflow/dtensor'\"), ('/usr/local/lib/python3.10/dist-packages/tensorflow/core', '/usr/local/lib/python3.10/dist-packages/~ensorflow/core', \"[Errno 28] No space left on device: '/usr/local/lib/python3.10/dist-packages/~ensorflow/core'\"), ('/usr/local/lib/python3.10/dist-packages/tensorflow/libtensorflow_framework.so.2', '/usr/local/lib/python3.10/dist-packages/~ensorflow/libtensorflow_framework.so.2', \"[Errno 28] No space left on device: '/usr/local/lib/python3.10/dist-packages/tensorflow/libtensorflow_framework.so.2' -> '/usr/local/lib/python3.10/dist-packages/~ensorflow/libtensorflow_framework.so.2'\"), ('/usr/local/lib/python3.10/dist-packages/tensorflow/tools', '/usr/local/lib/python3.10/dist-packages/~ensorflow/tools', \"[Errno 28] No space left on device: '/usr/local/lib/python3.10/dist-packages/~ensorflow/tools'\"), ('/usr/local/lib/python3.10/dist-packages/tensorflow/distribute', '/usr/local/lib/python3.10/dist-packages/~ensorflow/distribute', \"[Errno 28] No space left on device: '/usr/local/lib/python3.10/dist-packages/~ensorflow/distribute'\"), ('/usr/local/lib/python3.10/dist-packages/tensorflow/python', '/usr/local/lib/python3.10/dist-packages/~ensorflow/python', \"[Errno 28] No space left on device: '/usr/local/lib/python3.10/dist-packages/~ensorflow/python'\"), ('/usr/local/lib/python3.10/dist-packages/tensorflow/tsl', '/usr/local/lib/python3.10/dist-packages/~ensorflow/tsl', \"[Errno 28] No space left on device: '/usr/local/lib/python3.10/dist-packages/~ensorflow/tsl'\"), ('/usr/local/lib/python3.10/dist-packages/tensorflow/xla_aot_runtime_src', '/usr/local/lib/python3.10/dist-packages/~ensorflow/xla_aot_runtime_src', \"[Errno 28] No space left on device: '/usr/local/lib/python3.10/dist-packages/~ensorflow/xla_aot_runtime_src'\")]\n",
            "\u001b[0m\u001b[31m\n",
            "\u001b[0m--- Logging error ---\n",
            "Traceback (most recent call last):\n",
            "  File \"/usr/lib/python3.10/shutil.py\", line 816, in move\n",
            "    os.rename(src, real_dst)\n",
            "OSError: [Errno 18] Invalid cross-device link: '/usr/local/lib/python3.10/dist-packages/tensorflow/' -> '/usr/local/lib/python3.10/dist-packages/~ensorflow'\n",
            "\n",
            "During handling of the above exception, another exception occurred:\n",
            "\n",
            "Traceback (most recent call last):\n",
            "  File \"/usr/local/lib/python3.10/dist-packages/pip/_internal/commands/install.py\", line 449, in run\n",
            "    installed = install_given_reqs(\n",
            "  File \"/usr/local/lib/python3.10/dist-packages/pip/_internal/req/__init__.py\", line 67, in install_given_reqs\n",
            "    uninstalled_pathset = requirement.uninstall(auto_confirm=True)\n",
            "  File \"/usr/local/lib/python3.10/dist-packages/pip/_internal/req/req_install.py\", line 680, in uninstall\n",
            "    uninstalled_pathset.remove(auto_confirm, verbose)\n",
            "  File \"/usr/local/lib/python3.10/dist-packages/pip/_internal/req/req_uninstall.py\", line 381, in remove\n",
            "    moved.stash(path)\n",
            "  File \"/usr/local/lib/python3.10/dist-packages/pip/_internal/req/req_uninstall.py\", line 272, in stash\n",
            "    renames(path, new_path)\n",
            "  File \"/usr/local/lib/python3.10/dist-packages/pip/_internal/utils/misc.py\", line 313, in renames\n",
            "    shutil.move(old, new)\n",
            "  File \"/usr/lib/python3.10/shutil.py\", line 832, in move\n",
            "    copytree(src, real_dst, copy_function=copy_function,\n",
            "  File \"/usr/lib/python3.10/shutil.py\", line 559, in copytree\n",
            "    return _copytree(entries=entries, src=src, dst=dst, symlinks=symlinks,\n",
            "  File \"/usr/lib/python3.10/shutil.py\", line 513, in _copytree\n",
            "    raise Error(errors)\n",
            "shutil.Error: [('/usr/local/lib/python3.10/dist-packages/tensorflow/libtensorflow_cc.so.2', '/usr/local/lib/python3.10/dist-packages/~ensorflow/libtensorflow_cc.so.2', \"[Errno 28] No space left on device: '/usr/local/lib/python3.10/dist-packages/tensorflow/libtensorflow_cc.so.2' -> '/usr/local/lib/python3.10/dist-packages/~ensorflow/libtensorflow_cc.so.2'\"), ('/usr/local/lib/python3.10/dist-packages/tensorflow/compiler', '/usr/local/lib/python3.10/dist-packages/~ensorflow/compiler', \"[Errno 28] No space left on device: '/usr/local/lib/python3.10/dist-packages/~ensorflow/compiler'\"), ('/usr/local/lib/python3.10/dist-packages/tensorflow/lite', '/usr/local/lib/python3.10/dist-packages/~ensorflow/lite', \"[Errno 28] No space left on device: '/usr/local/lib/python3.10/dist-packages/~ensorflow/lite'\"), ('/usr/local/lib/python3.10/dist-packages/tensorflow/security', '/usr/local/lib/python3.10/dist-packages/~ensorflow/security', \"[Errno 28] No space left on device: '/usr/local/lib/python3.10/dist-packages/~ensorflow/security'\"), ('/usr/local/lib/python3.10/dist-packages/tensorflow/_api', '/usr/local/lib/python3.10/dist-packages/~ensorflow/_api', \"[Errno 28] No space left on device: '/usr/local/lib/python3.10/dist-packages/~ensorflow/_api'\"), ('/usr/local/lib/python3.10/dist-packages/tensorflow/include', '/usr/local/lib/python3.10/dist-packages/~ensorflow/include', \"[Errno 28] No space left on device: '/usr/local/lib/python3.10/dist-packages/~ensorflow/include'\"), ('/usr/local/lib/python3.10/dist-packages/tensorflow/__pycache__', '/usr/local/lib/python3.10/dist-packages/~ensorflow/__pycache__', \"[Errno 28] No space left on device: '/usr/local/lib/python3.10/dist-packages/~ensorflow/__pycache__'\"), ('/usr/local/lib/python3.10/dist-packages/tensorflow/dtensor', '/usr/local/lib/python3.10/dist-packages/~ensorflow/dtensor', \"[Errno 28] No space left on device: '/usr/local/lib/python3.10/dist-packages/~ensorflow/dtensor'\"), ('/usr/local/lib/python3.10/dist-packages/tensorflow/core', '/usr/local/lib/python3.10/dist-packages/~ensorflow/core', \"[Errno 28] No space left on device: '/usr/local/lib/python3.10/dist-packages/~ensorflow/core'\"), ('/usr/local/lib/python3.10/dist-packages/tensorflow/libtensorflow_framework.so.2', '/usr/local/lib/python3.10/dist-packages/~ensorflow/libtensorflow_framework.so.2', \"[Errno 28] No space left on device: '/usr/local/lib/python3.10/dist-packages/tensorflow/libtensorflow_framework.so.2' -> '/usr/local/lib/python3.10/dist-packages/~ensorflow/libtensorflow_framework.so.2'\"), ('/usr/local/lib/python3.10/dist-packages/tensorflow/tools', '/usr/local/lib/python3.10/dist-packages/~ensorflow/tools', \"[Errno 28] No space left on device: '/usr/local/lib/python3.10/dist-packages/~ensorflow/tools'\"), ('/usr/local/lib/python3.10/dist-packages/tensorflow/distribute', '/usr/local/lib/python3.10/dist-packages/~ensorflow/distribute', \"[Errno 28] No space left on device: '/usr/local/lib/python3.10/dist-packages/~ensorflow/distribute'\"), ('/usr/local/lib/python3.10/dist-packages/tensorflow/python', '/usr/local/lib/python3.10/dist-packages/~ensorflow/python', \"[Errno 28] No space left on device: '/usr/local/lib/python3.10/dist-packages/~ensorflow/python'\"), ('/usr/local/lib/python3.10/dist-packages/tensorflow/tsl', '/usr/local/lib/python3.10/dist-packages/~ensorflow/tsl', \"[Errno 28] No space left on device: '/usr/local/lib/python3.10/dist-packages/~ensorflow/tsl'\"), ('/usr/local/lib/python3.10/dist-packages/tensorflow/xla_aot_runtime_src', '/usr/local/lib/python3.10/dist-packages/~ensorflow/xla_aot_runtime_src', \"[Errno 28] No space left on device: '/usr/local/lib/python3.10/dist-packages/~ensorflow/xla_aot_runtime_src'\")]\n",
            "\n",
            "During handling of the above exception, another exception occurred:\n",
            "\n",
            "Traceback (most recent call last):\n",
            "  File \"/usr/lib/python3.10/logging/__init__.py\", line 1104, in emit\n",
            "    self.flush()\n",
            "  File \"/usr/lib/python3.10/logging/__init__.py\", line 1084, in flush\n",
            "    self.stream.flush()\n",
            "OSError: [Errno 28] No space left on device\n",
            "Call stack:\n",
            "  File \"/usr/local/bin/pip3\", line 8, in <module>\n",
            "    sys.exit(main())\n",
            "  File \"/usr/local/lib/python3.10/dist-packages/pip/_internal/cli/main.py\", line 79, in main\n",
            "    return command.main(cmd_args)\n",
            "  File \"/usr/local/lib/python3.10/dist-packages/pip/_internal/cli/base_command.py\", line 101, in main\n",
            "    return self._main(args)\n",
            "  File \"/usr/local/lib/python3.10/dist-packages/pip/_internal/cli/base_command.py\", line 223, in _main\n",
            "    return run(options, args)\n",
            "  File \"/usr/local/lib/python3.10/dist-packages/pip/_internal/cli/base_command.py\", line 169, in exc_logging_wrapper\n",
            "    status = run_func(*args)\n",
            "  File \"/usr/local/lib/python3.10/dist-packages/pip/_internal/cli/req_command.py\", line 242, in wrapper\n",
            "    return func(self, options, args)\n",
            "  File \"/usr/local/lib/python3.10/dist-packages/pip/_internal/commands/install.py\", line 501, in run\n",
            "    logger.error(message, exc_info=show_traceback)  # noqa\n",
            "Message: 'Could not install packages due to an OSError: [(\\'/usr/local/lib/python3.10/dist-packages/tensorflow/libtensorflow_cc.so.2\\', \\'/usr/local/lib/python3.10/dist-packages/~ensorflow/libtensorflow_cc.so.2\\', \"[Errno 28] No space left on device: \\'/usr/local/lib/python3.10/dist-packages/tensorflow/libtensorflow_cc.so.2\\' -> \\'/usr/local/lib/python3.10/dist-packages/~ensorflow/libtensorflow_cc.so.2\\'\"), (\\'/usr/local/lib/python3.10/dist-packages/tensorflow/compiler\\', \\'/usr/local/lib/python3.10/dist-packages/~ensorflow/compiler\\', \"[Errno 28] No space left on device: \\'/usr/local/lib/python3.10/dist-packages/~ensorflow/compiler\\'\"), (\\'/usr/local/lib/python3.10/dist-packages/tensorflow/lite\\', \\'/usr/local/lib/python3.10/dist-packages/~ensorflow/lite\\', \"[Errno 28] No space left on device: \\'/usr/local/lib/python3.10/dist-packages/~ensorflow/lite\\'\"), (\\'/usr/local/lib/python3.10/dist-packages/tensorflow/security\\', \\'/usr/local/lib/python3.10/dist-packages/~ensorflow/security\\', \"[Errno 28] No space left on device: \\'/usr/local/lib/python3.10/dist-packages/~ensorflow/security\\'\"), (\\'/usr/local/lib/python3.10/dist-packages/tensorflow/_api\\', \\'/usr/local/lib/python3.10/dist-packages/~ensorflow/_api\\', \"[Errno 28] No space left on device: \\'/usr/local/lib/python3.10/dist-packages/~ensorflow/_api\\'\"), (\\'/usr/local/lib/python3.10/dist-packages/tensorflow/include\\', \\'/usr/local/lib/python3.10/dist-packages/~ensorflow/include\\', \"[Errno 28] No space left on device: \\'/usr/local/lib/python3.10/dist-packages/~ensorflow/include\\'\"), (\\'/usr/local/lib/python3.10/dist-packages/tensorflow/__pycache__\\', \\'/usr/local/lib/python3.10/dist-packages/~ensorflow/__pycache__\\', \"[Errno 28] No space left on device: \\'/usr/local/lib/python3.10/dist-packages/~ensorflow/__pycache__\\'\"), (\\'/usr/local/lib/python3.10/dist-packages/tensorflow/dtensor\\', \\'/usr/local/lib/python3.10/dist-packages/~ensorflow/dtensor\\', \"[Errno 28] No space left on device: \\'/usr/local/lib/python3.10/dist-packages/~ensorflow/dtensor\\'\"), (\\'/usr/local/lib/python3.10/dist-packages/tensorflow/core\\', \\'/usr/local/lib/python3.10/dist-packages/~ensorflow/core\\', \"[Errno 28] No space left on device: \\'/usr/local/lib/python3.10/dist-packages/~ensorflow/core\\'\"), (\\'/usr/local/lib/python3.10/dist-packages/tensorflow/libtensorflow_framework.so.2\\', \\'/usr/local/lib/python3.10/dist-packages/~ensorflow/libtensorflow_framework.so.2\\', \"[Errno 28] No space left on device: \\'/usr/local/lib/python3.10/dist-packages/tensorflow/libtensorflow_framework.so.2\\' -> \\'/usr/local/lib/python3.10/dist-packages/~ensorflow/libtensorflow_framework.so.2\\'\"), (\\'/usr/local/lib/python3.10/dist-packages/tensorflow/tools\\', \\'/usr/local/lib/python3.10/dist-packages/~ensorflow/tools\\', \"[Errno 28] No space left on device: \\'/usr/local/lib/python3.10/dist-packages/~ensorflow/tools\\'\"), (\\'/usr/local/lib/python3.10/dist-packages/tensorflow/distribute\\', \\'/usr/local/lib/python3.10/dist-packages/~ensorflow/distribute\\', \"[Errno 28] No space left on device: \\'/usr/local/lib/python3.10/dist-packages/~ensorflow/distribute\\'\"), (\\'/usr/local/lib/python3.10/dist-packages/tensorflow/python\\', \\'/usr/local/lib/python3.10/dist-packages/~ensorflow/python\\', \"[Errno 28] No space left on device: \\'/usr/local/lib/python3.10/dist-packages/~ensorflow/python\\'\"), (\\'/usr/local/lib/python3.10/dist-packages/tensorflow/tsl\\', \\'/usr/local/lib/python3.10/dist-packages/~ensorflow/tsl\\', \"[Errno 28] No space left on device: \\'/usr/local/lib/python3.10/dist-packages/~ensorflow/tsl\\'\"), (\\'/usr/local/lib/python3.10/dist-packages/tensorflow/xla_aot_runtime_src\\', \\'/usr/local/lib/python3.10/dist-packages/~ensorflow/xla_aot_runtime_src\\', \"[Errno 28] No space left on device: \\'/usr/local/lib/python3.10/dist-packages/~ensorflow/xla_aot_runtime_src\\'\")]\\n'\n",
            "Arguments: ()\n",
            "--- Logging error ---\n",
            "Traceback (most recent call last):\n",
            "  File \"/usr/lib/python3.10/logging/__init__.py\", line 1104, in emit\n",
            "    self.flush()\n",
            "  File \"/usr/lib/python3.10/logging/__init__.py\", line 1084, in flush\n",
            "    self.stream.flush()\n",
            "OSError: [Errno 28] No space left on device\n",
            "Call stack:\n",
            "  File \"/usr/local/bin/pip3\", line 8, in <module>\n",
            "    sys.exit(main())\n",
            "  File \"/usr/local/lib/python3.10/dist-packages/pip/_internal/cli/main.py\", line 79, in main\n",
            "    return command.main(cmd_args)\n",
            "  File \"/usr/local/lib/python3.10/dist-packages/pip/_internal/cli/base_command.py\", line 100, in main\n",
            "    with self.main_context():\n",
            "  File \"/usr/lib/python3.10/contextlib.py\", line 142, in __exit__\n",
            "    next(self.gen)\n",
            "  File \"/usr/local/lib/python3.10/dist-packages/pip/_internal/cli/command_context.py\", line 19, in main_context\n",
            "    with self._main_context:\n",
            "  File \"/usr/lib/python3.10/contextlib.py\", line 561, in __exit__\n",
            "    if cb(*exc_details):\n",
            "  File \"/usr/lib/python3.10/contextlib.py\", line 142, in __exit__\n",
            "    next(self.gen)\n",
            "  File \"/usr/local/lib/python3.10/dist-packages/pip/_internal/operations/build/build_tracker.py\", line 50, in get_build_tracker\n",
            "    with BuildTracker(root) as tracker:\n",
            "  File \"/usr/local/lib/python3.10/dist-packages/pip/_internal/operations/build/build_tracker.py\", line 70, in __exit__\n",
            "    self.cleanup()\n",
            "  File \"/usr/local/lib/python3.10/dist-packages/pip/_internal/operations/build/build_tracker.py\", line 118, in cleanup\n",
            "    logger.debug(\"Removed build tracker: %r\", self._root)\n",
            "Message: 'Removed build tracker: %r'\n",
            "Arguments: ('/tmp/pip-build-tracker-xy9wsg7s',)\n"
          ]
        }
      ]
    },
    {
      "cell_type": "code",
      "source": [
        "# modified\n",
        "\n",
        "# training\n",
        "\n",
        "!python /content/VulRepair/M1_VulRepair_PL-NL/vulrepair_main.py \\\n",
        "    --model_name=model.bin \\\n",
        "    --output_dir=./saved_models \\\n",
        "    --tokenizer_name=Salesforce/codet5p-2b \\\n",
        "    --model_name_or_path=Salesforce/codet5p-2b \\\n",
        "    --do_train \\\n",
        "    --epochs 75 \\\n",
        "    --encoder_block_size 512 \\\n",
        "    --decoder_block_size 256 \\\n",
        "    --train_batch_size 4 \\\n",
        "    --eval_batch_size 4 \\\n",
        "    --learning_rate 2e-5 \\\n",
        "    --max_grad_norm 1.0 \\\n",
        "    --evaluate_during_training \\\n",
        "    --seed 123456  2>&1 | tee train.log"
      ],
      "metadata": {
        "id": "t05lKJG20aDt",
        "colab": {
          "base_uri": "https://localhost:8080/"
        },
        "outputId": "111223af-da63-4c48-dd24-05a658b6c863"
      },
      "execution_count": null,
      "outputs": [
        {
          "output_type": "stream",
          "name": "stdout",
          "text": [
            "2023-10-15 09:30:59.327381: W tensorflow/compiler/tf2tensorrt/utils/py_utils.cc:38] TF-TRT Warning: Could not find TensorRT\n",
            "10/15/2023 09:31:04 - WARNING - __main__ -   device: cuda:0, n_gpu: 1\n",
            "Special tokens have been added in the vocabulary, make sure the associated word embeddings are fine-tuned or trained.\n"
          ]
        }
      ]
    },
    {
      "cell_type": "markdown",
      "source": [],
      "metadata": {
        "id": "5LWYhNW4nRj7"
      }
    },
    {
      "cell_type": "code",
      "source": [
        "# Inference\n",
        "!python /content/VulRepair/M1_VulRepair_PL-NL/vulrepair_main.py \\\n",
        "    --output_dir=./saved_models \\\n",
        "    --model_name=model.bin \\\n",
        "    --tokenizer_name=Salesforce/codet5p-2b \\\n",
        "    --model_name_or_path=Salesforce/codet5p-2b --do_test \\\n",
        "    --encoder_block_size 512 \\\n",
        "    --decoder_block_size 256 \\\n",
        "    --num_beams=50 \\\n",
        "    --eval_batch_size 1"
      ],
      "metadata": {
        "colab": {
          "base_uri": "https://localhost:8080/"
        },
        "id": "FRQGosAQiV_x",
        "outputId": "5d72437e-14af-40f8-b19a-88f3a6ba0273"
      },
      "execution_count": 32,
      "outputs": [
        {
          "output_type": "stream",
          "name": "stdout",
          "text": [
            "2023-10-15 09:17:02.899932: W tensorflow/compiler/tf2tensorrt/utils/py_utils.cc:38] TF-TRT Warning: Could not find TensorRT\n",
            "10/15/2023 09:17:06 - WARNING - __main__ -   device: cuda:0, n_gpu: 1\n",
            "Traceback (most recent call last):\n",
            "  File \"/content/VulRepair/M1_VulRepair_PL-NL/vulrepair_main.py\", line 393, in <module>\n",
            "    main()\n",
            "  File \"/content/VulRepair/M1_VulRepair_PL-NL/vulrepair_main.py\", line 360, in main\n",
            "    tokenizer = AutoTokenizer.from_pretrained(args.tokenizer_name)\n",
            "  File \"/usr/local/lib/python3.10/dist-packages/transformers/models/auto/tokenization_auto.py\", line 701, in from_pretrained\n",
            "    tokenizer_config = get_tokenizer_config(pretrained_model_name_or_path, **kwargs)\n",
            "  File \"/usr/local/lib/python3.10/dist-packages/transformers/models/auto/tokenization_auto.py\", line 534, in get_tokenizer_config\n",
            "    resolved_config_file = cached_file(\n",
            "  File \"/usr/local/lib/python3.10/dist-packages/transformers/utils/hub.py\", line 429, in cached_file\n",
            "    resolved_file = hf_hub_download(\n",
            "  File \"/usr/local/lib/python3.10/dist-packages/huggingface_hub/utils/_validators.py\", line 110, in _inner_fn\n",
            "    validate_repo_id(arg_value)\n",
            "  File \"/usr/local/lib/python3.10/dist-packages/huggingface_hub/utils/_validators.py\", line 158, in validate_repo_id\n",
            "    raise HFValidationError(\n",
            "huggingface_hub.utils._validators.HFValidationError: Repo id must be in the form 'repo_name' or 'namespace/repo_name': 'Salesforce/Salesforce/codet5p-2b'. Use `repo_type` argument if needed.\n"
          ]
        }
      ]
    },
    {
      "cell_type": "code",
      "source": [
        "!CUDNN_PATH=$(dirname $(python -c \"import nvidia.cudnn;print(nvidia.cudnn.__file__)\"))\n",
        "!export LD_LIBRARY_PATH=$CUDNN_PATH/lib:$CONDA_PREFIX/lib/:$LD_LIBRARY_PATH\n"
      ],
      "metadata": {
        "id": "hjVp9XF_kTkH"
      },
      "execution_count": 27,
      "outputs": []
    }
  ]
}